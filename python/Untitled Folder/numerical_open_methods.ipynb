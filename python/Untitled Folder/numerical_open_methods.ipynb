{
 "cells": [
  {
   "cell_type": "code",
   "execution_count": 39,
   "id": "historical-correction",
   "metadata": {},
   "outputs": [],
   "source": [
    "import numpy as np\n",
    "from sympy import *\n"
   ]
  },
  {
   "cell_type": "code",
   "execution_count": 40,
   "id": "faced-cleaning",
   "metadata": {},
   "outputs": [],
   "source": [
    "x = Symbol('x')\n",
    "y = x * cos(x) + 1\n",
    "f = lambdify(x, y, 'numpy')\n",
    "fd = lambdify(x, y.diff(x), 'numpy')"
   ]
  },
  {
   "cell_type": "code",
   "execution_count": 41,
   "id": "similar-blank",
   "metadata": {},
   "outputs": [],
   "source": [
    "def newton_raphson(tolerance, max_iters):\n",
    "    iteration = 0\n",
    "    x0 = 10\n",
    "    \n",
    "    c = True\n",
    "    while c:\n",
    "        iteration += 1\n",
    "        x1 = x0 - (f(x0) / fd(x0))\n",
    "        c = abs(x1 - x0) > tolerance and iteration < max_iters\n",
    "        #print(f\"[+] Iteration `{iteration}` Root `{x1}` Error `{abs(x1 - x0)}`\")\n",
    "        x0 = x1\n",
    "    \n",
    "    \n",
    "    "
   ]
  },
  {
   "cell_type": "code",
   "execution_count": null,
   "id": "christian-teacher",
   "metadata": {},
   "outputs": [],
   "source": []
  },
  {
   "cell_type": "code",
   "execution_count": null,
   "id": "beneficial-sleep",
   "metadata": {},
   "outputs": [],
   "source": []
  },
  {
   "cell_type": "code",
   "execution_count": null,
   "id": "arabic-capability",
   "metadata": {},
   "outputs": [],
   "source": []
  }
 ],
 "metadata": {
  "kernelspec": {
   "display_name": "Python 3",
   "language": "python",
   "name": "python3"
  },
  "language_info": {
   "codemirror_mode": {
    "name": "ipython",
    "version": 3
   },
   "file_extension": ".py",
   "mimetype": "text/x-python",
   "name": "python",
   "nbconvert_exporter": "python",
   "pygments_lexer": "ipython3",
   "version": "3.9.1"
  }
 },
 "nbformat": 4,
 "nbformat_minor": 5
}
