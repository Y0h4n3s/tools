{
 "cells": [
  {
   "cell_type": "code",
   "execution_count": 11,
   "id": "interpreted-lebanon",
   "metadata": {},
   "outputs": [
    {
     "name": "stderr",
     "output_type": "stream",
     "text": [
      "/usr/lib/python3/dist-packages/mpmath/ctx_mp_python.py:892: SyntaxWarning: \"is\" with a literal. Did you mean \"==\"?\n",
      "  if other is 0:\n",
      "/usr/lib/python3/dist-packages/mpmath/ctx_mp_python.py:986: SyntaxWarning: \"is\" with a literal. Did you mean \"==\"?\n",
      "  if other is 0:\n",
      "/usr/lib/python3/dist-packages/sympy/solvers/diophantine.py:3188: SyntaxWarning: \"is\" with a literal. Did you mean \"==\"?\n",
      "  if feasible is 1:  # it's prime and k == 2\n"
     ]
    }
   ],
   "source": [
    "import numpy as np\n",
    "from sympy import *\n"
   ]
  },
  {
   "cell_type": "code",
   "execution_count": 14,
   "id": "played-activation",
   "metadata": {},
   "outputs": [],
   "source": [
    "x = Symbol('x')\n",
    "y = x * cos(x) + 1\n",
    "f = lambdify(x, y, 'numpy')\n",
    "fd = lambdify(x, y.diff(x), 'numpy')"
   ]
  },
  {
   "cell_type": "code",
   "execution_count": 34,
   "id": "threaded-rendering",
   "metadata": {},
   "outputs": [],
   "source": [
    "def newton_raphson(tolerance, max_iters):\n",
    "    iteration = 0\n",
    "    x0 = 10\n",
    "    \n",
    "    c = True\n",
    "    while c:\n",
    "        iteration += 1\n",
    "        x1 = x0 - (f(x0) / fd(x0))\n",
    "        c = abs(x1 - x0) > tolerance and iteration < max_iters\n",
    "        print(f\"[+] Iteration `{iteration}` Root `{x1}` Error `{abs(x1 - x0)}`\")\n",
    "        x0 = x1\n",
    "    \n",
    "    \n",
    "    "
   ]
  },
  {
   "cell_type": "code",
   "execution_count": null,
   "id": "original-baker",
   "metadata": {},
   "outputs": [],
   "source": [
    "def secant()"
   ]
  },
  {
   "cell_type": "code",
   "execution_count": 33,
   "id": "sealed-orange",
   "metadata": {},
   "outputs": [
    {
     "name": "stdout",
     "output_type": "stream",
     "text": [
      "[+] Iteration `1` Root `11.606279305931874` Error `1.6062793059318743`\n",
      "[+] Iteration `2` Root `10.846935687672044` Error `0.7593436182598303`\n",
      "[+] Iteration `3` Root `10.904250111257635` Error `0.057314423585591356`\n",
      "[+] Iteration `4` Root `10.90373356476399` Error `0.0005165464936460751`\n"
     ]
    }
   ],
   "source": [
    "newton_raphson(0.001, 10)"
   ]
  },
  {
   "cell_type": "code",
   "execution_count": null,
   "id": "exciting-batman",
   "metadata": {},
   "outputs": [],
   "source": []
  }
 ],
 "metadata": {
  "kernelspec": {
   "display_name": "Python 3",
   "language": "python",
   "name": "python3"
  },
  "language_info": {
   "codemirror_mode": {
    "name": "ipython",
    "version": 3
   },
   "file_extension": ".py",
   "mimetype": "text/x-python",
   "name": "python",
   "nbconvert_exporter": "python",
   "pygments_lexer": "ipython3",
   "version": "3.9.1"
  }
 },
 "nbformat": 4,
 "nbformat_minor": 5
}
